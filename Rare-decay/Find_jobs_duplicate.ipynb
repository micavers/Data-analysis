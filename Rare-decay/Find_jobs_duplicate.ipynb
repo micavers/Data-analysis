{
 "cells": [
  {
   "cell_type": "code",
   "execution_count": null,
   "id": "84f8bace-a2fc-4637-b7a6-41aeac57da17",
   "metadata": {},
   "outputs": [],
   "source": [
    "import os\n",
    "from pathlib import Path\n",
    "from glob import glob\n",
    "import sys"
   ]
  },
  {
   "cell_type": "code",
   "execution_count": null,
   "id": "1423af7a-ca9f-4209-9113-2e21f32339cc",
   "metadata": {},
   "outputs": [],
   "source": [
    "in_path = '/../../'\n",
    "projects_name = '...*'\n",
    "path = in_path + projects_name\n",
    "start_string = len(in_path)\n",
    "dir_ = glob(path)\n",
    "output_path = '/../..'\n",
    "file_name = 'BTauNu'"
   ]
  },
  {
   "cell_type": "code",
   "execution_count": null,
   "id": "5449e140-c1e2-48af-a5a5-96a089db1487",
   "metadata": {},
   "outputs": [],
   "source": [
    "stdoutOrigin=sys.stdout\n",
    "sys.stdout = open(\"duplicate_log.txt\", \"w\")\n",
    "\n",
    "for j in dir_:\n",
    "    if os.path.exists(output_path + '/' + j[start_string:] + '.root'):\n",
    "        print(j[start_string:] + '.root file already exists')\n",
    "        continue\n",
    "    if os.path.exists(output_path + '/' + j[start_string:] + '_sub00.root'):\n",
    "        print(j[start_string:] + '_sub00.root file already exists')\n",
    "        continue\n",
    "    if os.path.exists(output_path + '/' + j[start_string:] + '_sub01.root'):\n",
    "        print(j[start_string:] + '_sub01.root file already exists')\n",
    "        continue\n",
    "    if os.path.exists(output_path + '/' + j[start_string:] + '_sub02.root'):\n",
    "        print(j[start_string:] + '_sub02.root file already exists')\n",
    "        continue\n",
    "    if os.path.exists(output_path + '/' + j[start_string:] + '_sub03.root'):\n",
    "        print(j[start_string:] + '_sub03.root file already exists')\n",
    "        continue\n",
    "    if os.path.exists(output_path + '/' + j[start_string:] + '_sub04.root'):\n",
    "        print(j[start_string:] + '_sub04.root file already exists')\n",
    "        continue\n",
    "    print('Creating: ' + output_path + '/' + j[start_string:] + '.root')\n",
    "    hadd_str = 'hadd ' + output_path + '/' + j[start_string:] + '.root'\n",
    "    subdir = os.listdir(j)\n",
    "    for i in subdir:\n",
    "        if i == '11180500':\n",
    "            continue\n",
    "        hadd_str_sub = ''\n",
    "        files = []\n",
    "        doubles = []\n",
    "        k=0\n",
    "        for file1 in Path(j + '/' + i).glob(f'{file_name}*.root'):\n",
    "            files.append(file1)\n",
    "            if file1 in doubles:\n",
    "                continue\n",
    "            for file2 in Path(j + '/' + i).glob(f'{file_name}*.root'):\n",
    "                if file2 not in files and str(file1) != str(file2) and str(file1)[-20:-5] == str(file2)[-20:-5]:\n",
    "                    size1 = os.path.getsize(file1)\n",
    "                    size2 = os.path.getsize(file2)\n",
    "                    if size1 == size2:\n",
    "                        print(str(file1) + ' = ' + str(file2))\n",
    "                        doubles.append(file2)\n",
    "                        k+=1\n",
    "            \n",
    "            hadd_str_sub += ' ' + str(file1)\n",
    "            \n",
    "        if k == 0:\n",
    "            hadd_str += ' ' + str(j) + '/' + str(i) + f'/{file_name}' + '*.root'\n",
    "        elif k > 0 and len(subdir)>1:\n",
    "            os.system('hadd ' + output_path + '/' + j[start_string:] + '_' + i + '.root' + hadd_str_sub) #-j4\n",
    "        elif k > 0 and len(subdir) == 1:\n",
    "            os.system('hadd ' + output_path + '/' + j[start_string:] + '.root' + hadd_str_sub) #-j4\n",
    "            \n",
    "    os.system(hadd_str)\n",
    "    print('done')\n",
    "\n",
    "sys.stdout.close()\n",
    "sys.stdout=stdoutOrigin"
   ]
  },
  {
   "cell_type": "code",
   "execution_count": null,
   "id": "1c5e0826-57ce-4864-a811-34e9818d428a",
   "metadata": {},
   "outputs": [],
   "source": []
  },
  {
   "cell_type": "code",
   "execution_count": null,
   "id": "0b7b6f25-e0e3-44a0-a7d5-f80d5bc3451d",
   "metadata": {},
   "outputs": [],
   "source": []
  }
 ],
 "metadata": {
  "kernelspec": {
   "display_name": "Python 3 (ipykernel)",
   "language": "python",
   "name": "python3"
  },
  "language_info": {
   "codemirror_mode": {
    "name": "ipython",
    "version": 3
   },
   "file_extension": ".py",
   "mimetype": "text/x-python",
   "name": "python",
   "nbconvert_exporter": "python",
   "pygments_lexer": "ipython3",
   "version": "3.8.8"
  }
 },
 "nbformat": 4,
 "nbformat_minor": 5
}
