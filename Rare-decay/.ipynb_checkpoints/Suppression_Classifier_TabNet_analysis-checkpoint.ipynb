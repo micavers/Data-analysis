{
 "cells": [
  {
   "cell_type": "code",
   "execution_count": null,
   "id": "d105c931-1ce8-435e-b504-6fabf2241532",
   "metadata": {},
   "outputs": [],
   "source": [
    "from pytorch_tabnet.tab_model import TabNetClassifier,TabNetRegressor\n",
    "from sklearn.preprocessing import StandardScaler\n",
    "import torch\n",
    "import ROOT as root\n",
    "import numpy as np\n",
    "import pandas as pd\n",
    "import sklearn\n",
    "import math\n",
    "import uproot\n",
    "import os\n",
    "import sys\n",
    "import root_pandas as rp\n",
    "import matplotlib.pyplot as plt\n",
    "import seaborn as sn\n",
    "import warnings\n",
    "from sklearn import metrics\n",
    "\n",
    "warnings.simplefilter('ignore')"
   ]
  },
  {
   "cell_type": "code",
   "execution_count": null,
   "id": "3968bc62-088e-4959-bb08-a28e67e330f1",
   "metadata": {},
   "outputs": [],
   "source": [
    "apply_on_files = 1 # 0 or 1\n",
    "do_grid_search = 0\n",
    "\n",
    "cs_vars = ['','','','....']\n",
    "\n",
    "target_var = ['Signal']\n",
    "contSupp_var = ['contSupp_BB_lep']\n",
    "\n",
    "train_path = a_v.input_dir + 'BDT_contSupp_BB_train_2023-12-06_RW_2.parq'\n",
    "test_path = a_v.input_dir + 'BDT_contSupp_BB_test_2023-12-06.parq'\n",
    "\n",
    "train = pd.read_parquet(train_path, engine='pyarrow')\n",
    "test = pd.read_parquet(test_path, engine='pyarrow')"
   ]
  },
  {
   "cell_type": "code",
   "execution_count": null,
   "id": "b2f6f972-cf30-4fa7-b54f-3ea35a4b1cd1",
   "metadata": {},
   "outputs": [],
   "source": [
    "train_ = train[cs_vars+target_var+['contReweight']]\n",
    "test_ = test[cs_vars+target_var]\n",
    "\n",
    "scaler = StandardScaler()\n",
    "train_[cs_vars] = scaler.fit_transform(train_[cs_vars])\n",
    "test_[cs_vars] = scaler.transform(test_[cs_vars])\n",
    "\n",
    "x_train = train_[cs_vars].values\n",
    "x_train_weights = train_['contReweight'].values\n",
    "y_train = train_[target_var].values.flatten()#.reshape(-1, 1)\n",
    "\n",
    "x_test = test_[cs_vars].values\n",
    "y_test = test_[target_var].values.flatten()#.reshape(-1, 1)"
   ]
  },
  {
   "cell_type": "code",
   "execution_count": null,
   "id": "983b8a69-26e8-4fd7-9363-10d460e79cd1",
   "metadata": {},
   "outputs": [],
   "source": [
    "tabnet_params = dict(\n",
    "    n_d=15,\n",
    "    n_a=15,\n",
    "    n_steps=8,\n",
    "    seed=0,\n",
    "    #optimizer_params=dict(lr = 1e-3),\n",
    "    verbose=1,\n",
    ")"
   ]
  },
  {
   "cell_type": "code",
   "execution_count": null,
   "id": "c26aa3a2-514e-44bb-8a9d-d8ead7353516",
   "metadata": {},
   "outputs": [],
   "source": [
    "clf = TabNetClassifier(**tabnet_params)\n",
    "clf.fit(x_train, y_train,\n",
    "        eval_set = [(x_test,y_test)],\n",
    "        patience=0,\n",
    "        max_epochs=100,\n",
    "        eval_metric=['auc'],\n",
    "        num_workers=2,\n",
    "        weights= x_train_weights\n",
    "       )"
   ]
  },
  {
   "cell_type": "code",
   "execution_count": null,
   "id": "b5df1fd6-059b-45a8-a6b3-c50af84b9b76",
   "metadata": {},
   "outputs": [],
   "source": [
    "#plt.plot(clf.history[\"loss\"], label = \"train\")\n",
    "plt.plot(clf.history[\"val_0_auc\"], label = \"test\")\n",
    "plt.legend()\n",
    "plt.show()"
   ]
  },
  {
   "cell_type": "code",
   "execution_count": null,
   "id": "66e742c2-2ffc-46de-a92c-1756cd2ca117",
   "metadata": {
    "tags": []
   },
   "outputs": [],
   "source": [
    "feat_imp = pd.DataFrame(clf.feature_importances_, index=cs_vars)\n",
    "feature_importance = feat_imp.copy()\n",
    "\n",
    "feature_importance[\"imp_mean\"] = feature_importance.mean(axis=1)\n",
    "feature_importance = feature_importance.sort_values(\"imp_mean\")\n",
    "\n",
    "plt.tick_params(labelsize=18)\n",
    "plt.barh(feature_importance.index.values, feature_importance[\"imp_mean\"])\n",
    "plt.title(\"feature_importance\", fontsize=18)"
   ]
  },
  {
   "cell_type": "code",
   "execution_count": null,
   "id": "ce6dcc78-9a86-4e3a-9558-d35089fab9a9",
   "metadata": {},
   "outputs": [],
   "source": [
    "print(sklearn.metrics.accuracy_score(y_test, predictions))"
   ]
  },
  {
   "cell_type": "code",
   "execution_count": null,
   "id": "91df9675-4e75-4656-a0eb-5d85c9a31caf",
   "metadata": {},
   "outputs": [],
   "source": [
    "plt.rcParams.update({\n",
    "          'font.size': 20,\n",
    "          'figure.figsize': (12, 10),\n",
    "          'axes.grid': False,\n",
    "          'grid.linestyle': '-',\n",
    "          'grid.alpha': 0.2,\n",
    "          'lines.markersize': 5.0,\n",
    "          'xtick.minor.visible': True,\n",
    "          'xtick.direction': 'in',\n",
    "          'xtick.major.size': 10.0,\n",
    "          'xtick.minor.size': 5.0,\n",
    "          'xtick.top': True,\n",
    "          'ytick.minor.visible': True,\n",
    "          'ytick.direction': 'in',\n",
    "          'ytick.major.size': 10.0,\n",
    "          'ytick.minor.size': 5.0,\n",
    "          'ytick.right': True,\n",
    "          'errorbar.capsize': 0.0,\n",
    "        })\n",
    "\n",
    "try:\n",
    "    os.mkdir('/../BDT_plots')\n",
    "except FileExistsError:\n",
    "    print('Directory BDT_plots already exist')\n",
    "\n",
    "predictions = clf.predict_proba(x_train)\n",
    "y_pred_proba = []\n",
    "for i in range(len(predictions)): \n",
    "    x=predictions[i][1]\n",
    "    y_pred_proba.append(x)\n",
    "fpr_train, tpr_train, threshold_train = metrics.roc_curve(y_train,  y_pred_proba)\n",
    "auc_train = metrics.roc_auc_score(y_train, y_pred_proba)\n",
    "predictions = clf.predict_proba(x_test)\n",
    "y_pred_proba = []\n",
    "for i in range(len(predictions)): \n",
    "    x=predictions[i][1]\n",
    "    y_pred_proba.append(x)\n",
    "fpr_test, tpr_test, threshold_test = metrics.roc_curve(y_test,  y_pred_proba)\n",
    "auc_test = metrics.roc_auc_score(y_test, y_pred_proba)\n",
    "\n",
    "#create ROC curve test\n",
    "plt.plot(fpr_train,tpr_train,label=\"Train AUC=\"+str(round(auc_train,3)))\n",
    "plt.plot(fpr_test,tpr_test,label=\"Test AUC=\"+str(round(auc_test,3)))\n",
    "plt.ylabel('True Positive Rate')\n",
    "plt.xlabel('False Positive Rate')\n",
    "plt.legend(loc=4)\n",
    "plt.savefig('BDT_plots/contSupp_BB_lep_ROC_curve.pdf', bbox_inches='tight')"
   ]
  },
  {
   "cell_type": "code",
   "execution_count": null,
   "id": "b609d58a-1c35-4876-833a-f59adcde2256",
   "metadata": {},
   "outputs": [],
   "source": []
  }
 ],
 "metadata": {
  "kernelspec": {
   "display_name": "Python 3 (ipykernel)",
   "language": "python",
   "name": "python3"
  },
  "language_info": {
   "codemirror_mode": {
    "name": "ipython",
    "version": 3
   },
   "file_extension": ".py",
   "mimetype": "text/x-python",
   "name": "python",
   "nbconvert_exporter": "python",
   "pygments_lexer": "ipython3",
   "version": "3.8.8"
  }
 },
 "nbformat": 4,
 "nbformat_minor": 5
}
