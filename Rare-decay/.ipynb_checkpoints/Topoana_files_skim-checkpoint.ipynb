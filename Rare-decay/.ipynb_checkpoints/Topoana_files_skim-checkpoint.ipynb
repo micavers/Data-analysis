{
 "cells": [
  {
   "cell_type": "code",
   "execution_count": 1,
   "id": "565ce74e-423d-4b9a-937f-0ea11c18585e",
   "metadata": {},
   "outputs": [
    {
     "name": "stdout",
     "output_type": "stream",
     "text": [
      "Welcome to JupyROOT 6.24/06\n"
     ]
    },
    {
     "data": {
      "text/plain": [
       "<module 'analysis_variables' from '/gpfs/home/belle2/micavers/btaunu/scripts/analysis/analysis_variables.py'>"
      ]
     },
     "execution_count": 1,
     "metadata": {},
     "output_type": "execute_result"
    }
   ],
   "source": [
    "import os\n",
    "from pathlib import Path\n",
    "from glob import glob\n",
    "import sys\n",
    "import analysis_variables as a_v\n",
    "import numpy as np\n",
    "import pandas as pd\n",
    "from array import array\n",
    "import root_pandas as rp\n",
    "import importlib\n",
    "importlib.reload(a_v)"
   ]
  },
  {
   "cell_type": "code",
   "execution_count": 2,
   "id": "36478d21-cc01-4b67-858e-00ba571b6114",
   "metadata": {},
   "outputs": [
    {
     "name": "stdout",
     "output_type": "stream",
     "text": [
      "Reading from /group/belle2/users2022/gaudino/TauNu-iriomote/TauNu/prova2/Long_Btaunu_FEIskim_MC15ri_charged_2_6ab_FEI_w_tight_CSBB_SYS_topo_K_lid.parq\n"
     ]
    }
   ],
   "source": [
    "inFile = {}\n",
    "\n",
    "event_list = ['charged']\n",
    "\n",
    "for event in event_list:\n",
    "    print('Reading from', a_v.inFilePath_long[event])\n",
    "    inFile[event] = pd.read_parquet(a_v.inFilePath_long[event], engine='pyarrow')\n",
    "    inFile[event]['missEP_v2_v2_v1'] = inFile[event]['missE_v2_v2_v1'] + inFile[event]['missP_v2_v2_v1']"
   ]
  },
  {
   "cell_type": "code",
   "execution_count": 33,
   "id": "effb0c2c-dec9-42d8-be58-f414577c961c",
   "metadata": {},
   "outputs": [],
   "source": [
    "importlib.reload(a_v)\n",
    "\n",
    "MC_type = 'rho' # tot e mu pi rho\n",
    "\n",
    "list_variables = ['__event__']\n",
    "lumi = 'data'\n",
    "# ['missE_v3','missP_v3','missP_missE_v3','missM2_v3']\n",
    "# ROE_neextraSelMinC2Tim_v2\n",
    "# a_v.cs_variables\n",
    "\n",
    "cut_pdg_ = 'iDcyBrIncDcyBr_Bptau_0 != 2 and iDcyBrIncDcyBr_Bptau_0 != 20 and iDcyBrIncDcyBr_Bmtau_0 != 2 and iDcyBrIncDcyBr_Bmtau_0 != 8'\n",
    "\n",
    "cut = {}\n",
    "cut_pdg = {}\n",
    "cut['tot'] =  'd0_Mbc>5.27 and d0_deltaE>-0.15 and d0_deltaE<0.1 and d1_p>0.5 and not (d0_dmID==2 or d0_dmID==17) and Extra_Energy_bbs_hso_RegE_v1_kill<1' + ' and ' + cut_pdg_\n",
    "cut['e'] = a_v.decay_cuts_pandas['e'] + ' and d0_sigProb>0.01 and d1_p>0.5 and contSuppBDT_BB_output_lep<0.8 and Extra_Energy_bbs_hso_RegE_v1_kill<0.4 and missM2_v2_v2_v1_kill>5 and ' + cut['tot']\n",
    "cut['mu'] = a_v.decay_cuts_pandas['mu'] + ' and d0_sigProb>0.01 and d1_p>0.5 and contSuppBDT_BB_output_lep<0.8 and Extra_Energy_bbs_hso_RegE_v1_kill<0.4 and missM2_v2_v2_v1_kill>5 and ' + cut['tot']\n",
    "cut['pi'] = a_v.decay_cuts_pandas['pi'] + ' and d0_sigProb>0.01 and d1_p>1.4 and contSuppBDT_BB_output_had<0.6 and Extra_Energy_bbs_hso_RegE_v1_kill<0.5 and ' + cut['tot']\n",
    "cut['rho'] = a_v.decay_cuts_pandas['rho'] + ' and d0_sigProb>0.01 and d1_p>1.65 and contSuppBDT_BB_output_had<0.7 and Extra_Energy_bbs_hso_RegE_v1_kill<0.5 and ' + cut['tot']\n",
    "\n",
    "cut_pdg = {}\n",
    "cut_pdg['e'] = 'not (abs(d1_mcPDG) == 521 and abs(d1_d0_mcPDG) == 15 and abs(d1_d0_d0_mcPDG) == 11)' \n",
    "cut_pdg['mu'] = 'not (abs(d1_mcPDG) == 521 and abs(d1_d0_mcPDG) == 15 and abs(d1_d0_d0_mcPDG) == 13)' \n",
    "cut_pdg['pi'] = 'not (abs(d1_mcPDG) == 521 and abs(d1_d0_mcPDG) == 15 and abs(d1_d0_d0_mcPDG) == 211)' \n",
    "cut_pdg['rho'] = 'not (abs(d1_mcPDG) == 521 and abs(d1_d0_mcPDG) == 15 and abs(d1_d0_d0_mcPDG) == 211 and abs(d1_d0_d1_mcPDG) == 111)' \n",
    "\n",
    "in_cut = {}\n",
    "in_cut_sig = {}\n",
    "#for mode in a_v.decay_type:\n",
    "#    in_cut[mode] = a_v.decay_cuts_pandas[mode] + ' and ' + cut[mode] # + ' and d1_isSignalAcceptMissingNeutrino!=1'# and ' + cut_pdg[mode]\n",
    "\n",
    "df = inFile['charged'].query(cut[MC_type])[['__event__','__production__']]\n",
    "\n",
    "\n",
    "            \n",
    "    #del inFile[event] \n",
    "    #del array[event][mode][var] "
   ]
  },
  {
   "cell_type": "code",
   "execution_count": 4,
   "id": "b8641a70-79ed-4e8a-8cd5-c0ab5b28d59e",
   "metadata": {},
   "outputs": [],
   "source": [
    "path = '/group/belle2/users2022/micavers/btaunu/root_files/files_230529/Topoana_charged_new/'\n",
    "output_path = path\n",
    "file_name = 'MCGenTopo' # BTauNu or MCGenTopo"
   ]
  },
  {
   "cell_type": "code",
   "execution_count": 34,
   "id": "6444ca30-030e-4f1e-926f-91281eb04f37",
   "metadata": {},
   "outputs": [],
   "source": [
    "path = '/group/belle2/users2022/micavers/btaunu/root_files/files_230529/Topoana_charged/'\n",
    "output_path = path\n",
    "file_name = 'MCGenTopo' # BTauNu or MCGenTopo"
   ]
  },
  {
   "cell_type": "code",
   "execution_count": 35,
   "id": "92e6fbd7-89aa-40c2-a460-8c51304ee409",
   "metadata": {},
   "outputs": [],
   "source": [
    "list_path = []\n",
    "for i in Path(path).glob(f'{file_name}*.root'):\n",
    "    get_size = os.path.getsize (str(i))/1000000\n",
    "    if get_size > 0:\n",
    "        list_path.append(str(i))\n",
    "\n",
    "def chunks(lst, n):\n",
    "    for i in range(0, len(lst), n):\n",
    "        yield lst[i:i + n]\n",
    "\n",
    "list_path_chuncks = list(chunks(list_path,10))"
   ]
  },
  {
   "cell_type": "code",
   "execution_count": null,
   "id": "a188b635-d57b-4b20-a61c-36ce178afdfe",
   "metadata": {},
   "outputs": [],
   "source": [
    "importlib.reload(a_v)\n",
    "\n",
    "from multiprocessing import Process, Pool\n",
    "import multiprocessing.managers\n",
    "from tqdm.notebook import tqdm\n",
    "\n",
    "import warnings\n",
    "warnings.filterwarnings(\"ignore\")\n",
    "\n",
    "def converter(file1):\n",
    "    inFile_root = rp.read_root(str(file1),'MCGenTopo')\n",
    "    inFile_root = df.join(inFile_root.set_index(['__event__', '__production__']), on=['__event__', '__production__'], how='inner')\n",
    "    inFile_root = inFile_root.astype({'nMCGen':float}).drop(['__candidate__','__ncandidates__'],axis=1).drop_duplicates()\n",
    "    inFile_root.to_root(file1, key='MCGenTopo') #output_path + f'{MC_type}_' + str(file1)[80:]\n",
    "    \n",
    "n_cpus = 5\n",
    "\n",
    "for k in tqdm(list_path_chuncks):\n",
    "    pool = Pool(n_cpus)\n",
    "    \n",
    "    run_list = k\n",
    "    pool_result = pool.map(converter, run_list)\n",
    "\n",
    "    pool.close()\n",
    "    pool.join()"
   ]
  },
  {
   "cell_type": "code",
   "execution_count": 36,
   "id": "1c073f0b-b9d2-4362-af0e-ec053c0682ee",
   "metadata": {},
   "outputs": [
    {
     "data": {
      "application/vnd.jupyter.widget-view+json": {
       "model_id": "9163a7000efa48b59a43b6c8d2fa6554",
       "version_major": 2,
       "version_minor": 0
      },
      "text/plain": [
       "  0%|          | 0/137 [00:00<?, ?it/s]"
      ]
     },
     "metadata": {},
     "output_type": "display_data"
    }
   ],
   "source": [
    "importlib.reload(a_v)\n",
    "\n",
    "from multiprocessing import Process, Pool\n",
    "import multiprocessing.managers\n",
    "from tqdm.notebook import tqdm\n",
    "\n",
    "import warnings\n",
    "warnings.filterwarnings(\"ignore\")\n",
    "\n",
    "def converter(file1):\n",
    "    inFile_root = rp.read_root(str(file1),'MCGenTopo')\n",
    "    inFile_root = df.join(inFile_root.set_index(['__event__', '__production__']), on=['__event__', '__production__'], how='inner')\n",
    "    inFile_root = inFile_root.astype({'nMCGen':float})\n",
    "    inFile_root.to_root(file1.replace('MCGenTopo_',f'{MC_type}_low_eextra_MCGenTopo_'), key='MCGenTopo') #output_path + f'{MC_type}_' + str(file1)[80:]\n",
    "    \n",
    "n_cpus = 5\n",
    "\n",
    "for k in tqdm(list_path_chuncks):\n",
    "    pool = Pool(n_cpus)\n",
    "    \n",
    "    run_list = k\n",
    "    pool_result = pool.map(converter, run_list)\n",
    "    \n",
    "    pool.close()\n",
    "    pool.join()\n",
    "    "
   ]
  },
  {
   "cell_type": "code",
   "execution_count": null,
   "id": "9414ffbf-2123-4445-87e0-fb64660a84c9",
   "metadata": {},
   "outputs": [],
   "source": [
    "for i in ['D0K0','D0antiK0']: #'Dstar','D0','D0K0','D0antiK0','D0Kminus','D0Kplus','DplusK0','DplusantiK0','DplusKminus','DplusKplus']:\n",
    "    os.system(f'hadd -f {output_path}{MC_type}_topoana_{i}.root ' + output_path + f'{i}/' + f'{file_name}_{i}*.root') #-j4"
   ]
  },
  {
   "cell_type": "code",
   "execution_count": null,
   "id": "83fdbb8b-79a0-4eaa-8c77-fbbb58fbf506",
   "metadata": {},
   "outputs": [],
   "source": [
    "os.system(f'hadd -f {output_path}{MC_type}_low_eextra_topoana.root ' + output_path + f'{MC_type}_low_eextra*.root') #-j4"
   ]
  },
  {
   "cell_type": "code",
   "execution_count": null,
   "id": "8786c349-8ae8-413c-8402-ac2b3f357ebb",
   "metadata": {},
   "outputs": [],
   "source": [
    "for i in ['Dstar','D0','D0K0','D0antiK0','D0Kminus','D0Kplus','DplusK0','DplusantiK0','DplusKminus','DplusKplus']:\n",
    "    inFile_root = rp.read_root(output_path + f'tot_topoana_{i}.root','MCGenTopo')\n",
    "    inFile_root = inFile_root.astype({'nMCGen':float}).drop_duplicates()\n",
    "    inFile_root.to_root(output_path + f'tot_topoana_{i}.root', key='MCGenTopo')"
   ]
  },
  {
   "cell_type": "code",
   "execution_count": null,
   "id": "229a6e33-657f-47fa-923c-fe5dc066a732",
   "metadata": {},
   "outputs": [],
   "source": [
    "inFile_root = rp.read_root('/home/belle2/micavers/MCGenTopo_DplusKminus.root','MCGenTopo')\n",
    "inFile_root = inFile_root.astype({'nMCGen':float})\n",
    "inFile_root.to_root('/home/belle2/micavers/MCGenTopo_DplusKminus.root', key='MCGenTopo')"
   ]
  },
  {
   "cell_type": "code",
   "execution_count": null,
   "id": "532bef81-84aa-474a-82d7-c7c0cd7a00e4",
   "metadata": {},
   "outputs": [],
   "source": []
  },
  {
   "cell_type": "code",
   "execution_count": null,
   "id": "270bdf25-b413-41c9-8744-9cd56072862d",
   "metadata": {},
   "outputs": [],
   "source": [
    "list_ = [4,5,7,3,3,5,8,6,6]\n",
    "print(list_)\n",
    "\n",
    "def groupSort(arr):\n",
    "    # Write your code here\n",
    "    counts ={}\n",
    "    non_reapeting = []\n",
    "    twod_arr = []\n",
    "    arr_copy = arr.copy()\n",
    "    a = []\n",
    "    b = []\n",
    "    for i in arr:\n",
    "        if i in non_reapeting:\n",
    "            continue\n",
    "        counts[i] = 1\n",
    "        non_reapeting.append(i)\n",
    "        if arr_copy: \n",
    "            arr_copy.remove(i)\n",
    "            array_copy_ = arr_copy.copy()\n",
    "            for j in array_copy_:\n",
    "                if j == i:\n",
    "                    counts[i] += 1\n",
    "                    arr_copy.remove(i)\n",
    "    for i,j in counts.items():\n",
    "        a.append(i)\n",
    "        b.append(j)\n",
    "    for i in range(len(a)):\n",
    "        for j in range(i,len(a)):\n",
    "            if b[i] < b[j]:\n",
    "                a_ = a.pop(j)\n",
    "                b_ = b.pop(j)\n",
    "                a.insert(i,a_)\n",
    "                b.insert(i,b_)\n",
    "            elif b[i] == b[j]:\n",
    "                if a[i] > a[j]:\n",
    "                    a_ = a.pop(j)\n",
    "                    b_ = b.pop(j)\n",
    "                    a.insert(i,a_)\n",
    "                    b.insert(i,b_)\n",
    "    return list(zip(a,b))"
   ]
  }
 ],
 "metadata": {
  "kernelspec": {
   "display_name": "Python 3 (ipykernel)",
   "language": "python",
   "name": "python3"
  },
  "language_info": {
   "codemirror_mode": {
    "name": "ipython",
    "version": 3
   },
   "file_extension": ".py",
   "mimetype": "text/x-python",
   "name": "python",
   "nbconvert_exporter": "python",
   "pygments_lexer": "ipython3",
   "version": "3.8.8"
  },
  "toc-autonumbering": true
 },
 "nbformat": 4,
 "nbformat_minor": 5
}
