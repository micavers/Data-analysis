{
 "cells": [
  {
   "cell_type": "code",
   "execution_count": null,
   "id": "6455e0d3-77a3-473c-9b6b-de937c5ac0e4",
   "metadata": {},
   "outputs": [],
   "source": [
    "from PyFastBDT import FastBDT\n",
    "import basf2_mva\n",
    "import modularAnalysis as ma\n",
    "import ROOT as root\n",
    "import numpy as np\n",
    "import pandas as pd\n",
    "import math\n",
    "import uproot\n",
    "import root_pandas as rp\n",
    "import analysis_variables as a_v\n",
    "import matplotlib.pyplot as plt\n",
    "import seaborn as sn\n",
    "import datetime\n",
    "from sklearn.model_selection import train_test_split"
   ]
  },
  {
   "cell_type": "code",
   "execution_count": null,
   "id": "1f544cbf-bfb0-4ddd-b25c-0aab43999c96",
   "metadata": {},
   "outputs": [],
   "source": [
    "BDT_type = 'contReweight'\n",
    "\n",
    "sig_path = a_v.input_dir_long + '....parq'\n",
    "bkg_path = a_v.input_dir_long + '....parq'\n",
    "\n",
    "sig = pd.read_parquet(sig_path, engine='pyarrow').query('...>-0.15 and ...<0.1 and ...>0.5')\n",
    "bkg = pd.read_parquet(bkg_path, engine='pyarrow').query('...>-0.15 and ...<0.1 and ...>0.5')#.reset_index()\n",
    "\n",
    "sig = sig.assign(Signal = [1] * len(sig.d0_Mbc))\n",
    "bkg = bkg.assign(Signal = [0] * len(bkg.d0_Mbc))"
   ]
  },
  {
   "cell_type": "code",
   "execution_count": null,
   "id": "2562048b-3474-4196-9609-ef5cd71d11d4",
   "metadata": {},
   "outputs": [],
   "source": [
    "np.random.seed(0)\n",
    "\n",
    "cont_tot = bkg\n",
    "\n",
    "if len(sig.d0_Mbc)>len(bkg.d0_Mbc):\n",
    "    sig = sig.sample(frac=len(bkg.d0_Mbc)/len(sig.d0_Mbc), weights='...')\n",
    "else:\n",
    "    bkg = bkg.sample(frac=len(sig.d0_Mbc)/len(bkg.d0_Mbc), weights='...')\n",
    "    \n",
    "cont_used = bkg\n",
    "a = len(cont_used)/len(cont_tot) * 200 \n",
    "print('Used Continuum:',a,'fb-1')\n",
    "    \n",
    "train_percent = 0.8\n",
    "test_percent = 1 - train_percent\n",
    "\n",
    "sig_y = sig.Signal\n",
    "sig_x = sig.drop('Signal',axis=1)\n",
    "bkg_y = bkg.Signal\n",
    "bkg_x = bkg.drop('Signal',axis=1)\n",
    "\n",
    "x = pd.concat([sig_x,bkg_x])\n",
    "y = pd.concat([sig_y,bkg_y])\n",
    "\n",
    "x_train, x_test, y_train, y_test = train_test_split(x, y, test_size=test_percent)\n",
    "\n",
    "train = x_train.assign(Signal = y_train)\n",
    "test = x_test.assign(Signal = y_test)\n",
    "\n",
    "train.to_parquet(a_v.input_dir +'BDT_' + BDT_type + '_train_' + str(datetime.date.today()) + '.parq', compression='GZIP')\n",
    "test.to_parquet(a_v.input_dir +'BDT_' + BDT_type + '_test_' + str(datetime.date.today()) + '.parq', compression='GZIP')"
   ]
  },
  {
   "cell_type": "code",
   "execution_count": null,
   "id": "4b241691-941c-421e-a623-e82960628c7b",
   "metadata": {},
   "outputs": [],
   "source": [
    "BDT_type = 'contSupp_BB' #contSupp contSupp_BB \n",
    "\n",
    "bkg_path = a_v.input_dir + '....parq'\n",
    "\n",
    "sig = cont_tot.drop(cont_used.index)\n",
    "bkg = pd.read_parquet(bkg_path, engine='pyarrow').query('...>-0.15 and ...<0.1 and ...>0.5')\n",
    "\n",
    "sig = sig.assign(Signal = [1] * len(sig.d0_Mbc))\n",
    "bkg = bkg.assign(Signal = [0] * len(bkg.d0_Mbc))"
   ]
  },
  {
   "cell_type": "code",
   "execution_count": null,
   "id": "75430801-23ca-4f26-88a8-deb2f7dbc70b",
   "metadata": {},
   "outputs": [],
   "source": [
    "if len(sig.d0_Mbc)>len(bkg.d0_Mbc):\n",
    "    sig = sig.sample(frac=len(bkg.d0_Mbc)/len(sig.d0_Mbc), weights='...')\n",
    "else:\n",
    "    bkg = bkg.sample(frac=len(sig.d0_Mbc)/len(bkg.d0_Mbc), weights='...')\n",
    "\n",
    "cont_used_2 = sig\n",
    "b = len(cont_used_2)/len(cont_tot) * 200\n",
    "print('Used Continuum:',b,'fb-1')\n",
    "    \n",
    "train_percent = 0.8\n",
    "test_percent = 1 - train_percent\n",
    "\n",
    "sig_y = sig.Signal\n",
    "sig_x = sig.drop('Signal',axis=1)\n",
    "bkg_y = bkg.Signal\n",
    "bkg_x = bkg.drop('Signal',axis=1)\n",
    "\n",
    "x = pd.concat([sig_x,bkg_x])\n",
    "y = pd.concat([sig_y,bkg_y])\n",
    "\n",
    "x_train, x_test, y_train, y_test = train_test_split(x, y, test_size=test_percent)\n",
    "\n",
    "train = x_train.assign(Signal = y_train)\n",
    "test = x_test.assign(Signal = y_test)\n",
    "\n",
    "train.to_parquet(a_v.input_dir +'BDT_' + BDT_type + '_train_' + str(datetime.date.today()) + '.parq', compression='GZIP')\n",
    "test.to_parquet(a_v.input_dir +'BDT_' + BDT_type + '_test_' + str(datetime.date.today()) + '.parq', compression='GZIP')"
   ]
  },
  {
   "cell_type": "code",
   "execution_count": null,
   "id": "d7fce117-ee61-4918-b978-d77fd818bd36",
   "metadata": {},
   "outputs": [],
   "source": []
  }
 ],
 "metadata": {
  "kernelspec": {
   "display_name": "Python 3 (ipykernel)",
   "language": "python",
   "name": "python3"
  },
  "language_info": {
   "codemirror_mode": {
    "name": "ipython",
    "version": 3
   },
   "file_extension": ".py",
   "mimetype": "text/x-python",
   "name": "python",
   "nbconvert_exporter": "python",
   "pygments_lexer": "ipython3",
   "version": "3.8.8"
  }
 },
 "nbformat": 4,
 "nbformat_minor": 5
}
