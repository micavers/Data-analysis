{
 "cells": [
  {
   "cell_type": "code",
   "execution_count": null,
   "id": "37d92b8a-dc09-40a0-a2c0-1be6c669ddbb",
   "metadata": {},
   "outputs": [],
   "source": [
    "import ROOT as root\n",
    "import root_pandas as rp\n",
    "import uproot\n",
    "import sys\n",
    "import os\n",
    "import analysis_variables as a_v\n",
    "import numpy as np\n",
    "import pandas as pd\n",
    "from pylab import *\n",
    "from array import array\n",
    "import matplotlib.pyplot as plt\n",
    "from matplotlib.ticker import AutoMinorLocator\n",
    "import probfit as pf\n",
    "import importlib\n",
    "import pyarrow\n",
    "importlib.reload(a_v)"
   ]
  },
  {
   "cell_type": "code",
   "execution_count": null,
   "id": "ebbcbe51-70d0-4069-96d1-b0fcb9ad68b0",
   "metadata": {},
   "outputs": [],
   "source": [
    "importlib.reload(a_v)\n",
    "\n",
    "from multiprocessing import Process, Pool\n",
    "import multiprocessing.managers\n",
    "import tqdm\n",
    "\n",
    "import warnings\n",
    "warnings.filterwarnings(\"ignore\")\n",
    "\n",
    "in_Path = a_v.input_dir_extratracks\n",
    "out_Path = in_Path\n",
    "\n",
    "channels = ['...', '...', '...', '...', '...', '...','...', '...', '...', '...', '...','...'] \n",
    "\n",
    "nomeTree = '...'\n",
    "sample = '...'\n",
    "\n",
    "def merger(channel):\n",
    "    root_file = f\"{sample}_{channel}.root\"\n",
    "\n",
    "    print('Reading the root file', root_file)\n",
    "    if 'offres' in channel:\n",
    "        df1 = rp.read_root(in_Path + root_file, \n",
    "                           key = nomeTree, \n",
    "                           where='...<0.9 && ...<0.6 && ...>0.5')\n",
    "        print('Substituting ... and ...')\n",
    "        df1['...'] = np.sqrt(a_v.var * a_v.var / 4  - pow(a_v.var / a_v.var,2) * (df1.loc[:,'...']) * (df1.loc[:,'...']))\n",
    "        df1['...'] = a_v.var / a_v.var * df1.loc[:,'d0_ECMS'] - a_v.var/ 2\n",
    "        df1 = df1.query('...>5.27 and ... > -0.15 and ... < 0.1')\n",
    "    else:\n",
    "        df1 = rp.read_root(in_Path + root_file, \n",
    "                           key = nomeTree, \n",
    "                           where='...<0.9 && ...<0.6 && ...>0.5 && ... > 5.24 && ... > -0.15 && ... < 0.1')\n",
    "    print(root_file, '->before dropping duplicates', len(df1))\n",
    "    df1 = df1.drop_duplicates()\n",
    "    print(root_file, '->after dropping duplicates', len(df1))\n",
    "    df1.to_parquet(in_Path + root_file.replace('.root','_skim.parq'), compression='GZIP')\n",
    "    print(root_file, 'done')\n",
    "\n",
    "n_cpus = 2\n",
    "\n",
    "pool = Pool(n_cpus)\n",
    "    \n",
    "run_list = channels\n",
    "pool_result = pool.map(merger, run_list)\n",
    "\n",
    "pool.close()\n",
    "pool.join()\n"
   ]
  },
  {
   "cell_type": "code",
   "execution_count": null,
   "id": "21660650-36b5-4436-a2b6-1da884662a7b",
   "metadata": {},
   "outputs": [],
   "source": []
  }
 ],
 "metadata": {
  "kernelspec": {
   "display_name": "Python 3 (ipykernel)",
   "language": "python",
   "name": "python3"
  },
  "language_info": {
   "codemirror_mode": {
    "name": "ipython",
    "version": 3
   },
   "file_extension": ".py",
   "mimetype": "text/x-python",
   "name": "python",
   "nbconvert_exporter": "python",
   "pygments_lexer": "ipython3",
   "version": "3.8.8"
  }
 },
 "nbformat": 4,
 "nbformat_minor": 5
}
